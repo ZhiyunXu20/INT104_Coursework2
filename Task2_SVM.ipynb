{
 "cells": [
  {
   "cell_type": "code",
   "execution_count": 1,
   "metadata": {
    "collapsed": true,
    "ExecuteTime": {
     "end_time": "2023-05-18T00:53:12.363761Z",
     "start_time": "2023-05-18T00:53:11.763622Z"
    }
   },
   "outputs": [],
   "source": [
    "import pandas as pd\n",
    "import matplotlib.pyplot as plt\n",
    "import numpy as np\n",
    "import seaborn as sns\n",
    "from sklearn.decomposition import PCA\n",
    "from sklearn.preprocessing import StandardScaler\n",
    "from sklearn.svm import SVC\n",
    "from sklearn.model_selection import train_test_split, GridSearchCV, RandomizedSearchCV\n",
    "from sklearn.metrics import classification_report, accuracy_score, f1_score\n",
    "from sklearn.preprocessing import StandardScaler\n",
    "from scipy.stats import uniform"
   ]
  },
  {
   "cell_type": "code",
   "execution_count": 2,
   "outputs": [
    {
     "name": "stdout",
     "output_type": "stream",
     "text": [
      "Test size: 0.1, Random state: 21\n"
     ]
    }
   ],
   "source": [
    "# 加载数据\n",
    "# url = 'https://raw.githubusercontent.com/ZhiyunXu20/INT104_Coursework2/main/dataframe_PCA.csv'\n",
    "dataframe = pd.read_csv('dataframe_PCA.csv')\n",
    "\n",
    "X = dataframe.drop(columns=['Label', 'Patient index'])\n",
    "y = dataframe['Label']\n",
    "\n",
    "# 定义SVM核函数和参数\n",
    "kernels = ['linear', 'poly', 'rbf', 'sigmoid']\n",
    "kernel_params = {\n",
    "    'linear': {'C': [0.1, 1, 10, 100]},\n",
    "    'poly': {'C': [0.1, 1, 10, 100], 'degree': [2, 3, 4], 'coef0': [0, 1]},\n",
    "    'rbf': {'C': [0.1, 1, 10, 100], 'gamma': ['scale', 'auto']},\n",
    "    'sigmoid': {'C': [0.1, 1, 10, 100], 'coef0': [0, 1]}\n",
    "}\n",
    "\n",
    "# test_sizes = [0.1, 0.2, 0.3]\n",
    "# random_states = [21, 42, 84]\n",
    "test_size = 0.1\n",
    "random_state = 21\n",
    "\n",
    "results_SVM = []\n",
    "print(f\"Test size: {test_size}, Random state: {random_state}\")\n",
    "\n",
    "# 划分训练集和测试集\n",
    "X_train, X_test, y_train, y_test = train_test_split(X, y, test_size=test_size, random_state=random_state)\n",
    "\n"
   ],
   "metadata": {
    "collapsed": false,
    "ExecuteTime": {
     "end_time": "2023-05-18T00:53:16.022162Z",
     "start_time": "2023-05-18T00:53:15.965443Z"
    }
   }
  },
  {
   "cell_type": "code",
   "execution_count": null,
   "outputs": [],
   "source": [],
   "metadata": {
    "collapsed": false
   }
  },
  {
   "cell_type": "code",
   "execution_count": null,
   "outputs": [],
   "source": [
    "# 对每个核函数执行网格搜索和交叉验证\n",
    "for kernel in kernels:\n",
    "    print(f\"  Kernel: {kernel}\")\n",
    "    svm = SVC(kernel=kernel)\n",
    "\n",
    "    # 修正前：使用GridSearchCV进行网格搜索和交叉验证\n",
    "    grid_search = GridSearchCV(svm, kernel_params[kernel], cv=5, scoring='accuracy', n_jobs=4)\n",
    "    grid_search.fit(X_train, y_train)\n",
    "\n",
    "    # 输出最佳参数和分类器性能\n",
    "    print(\"  GridSearchCV Best parameters found:\", grid_search.best_params_)\n",
    "    print(\"  GridSearchCV Best score found:\", grid_search.best_score_)\n",
    "\n",
    "    # 修正后：使用RandomizedSearchCV进行随机搜索和交叉验证\n",
    "    distribution = dict(C=uniform(loc=0, scale=10), gamma=uniform(loc=0, scale=1))\n",
    "    randomized_search = RandomizedSearchCV(svm, distribution, n_iter=10, cv=5, scoring='accuracy', n_jobs=4)\n",
    "    randomized_search.fit(X_train, y_train)\n",
    "\n",
    "    # 输出最佳参数和分类器性能\n",
    "    print(\"  RandomizedSearchCV Best parameters found:\", randomized_search.best_params_)\n",
    "    print(\"  RandomizedSearchCV Best score found:\", randomized_search.best_score_)\n",
    "\n",
    "    # 使用最佳参数在测试集上评估模型\n",
    "    # 使用GridSearchCV找到的最佳参数在测试集上评估模型\n",
    "    best_svm_grid = grid_search.best_estimator_\n",
    "    y_pred_grid = best_svm_grid.predict(X_test)\n",
    "    accuracy_grid = accuracy_score(y_test, y_pred_grid)\n",
    "    f1_grid = f1_score(y_test, y_pred_grid, average='weighted')\n",
    "\n",
    "    result_SVM_grid = {\n",
    "        'Test Size': test_size,\n",
    "        'Random State': random_state,\n",
    "        'Kernel': kernel,\n",
    "        'Search Method': 'GridSearchCV',\n",
    "        'Best Parameters': grid_search.best_params_,\n",
    "        'Cross-Validation Score': grid_search.best_score_,\n",
    "        'Accuracy': accuracy_grid,\n",
    "        'F1 Score': f1_grid\n",
    "    }\n",
    "    results_SVM.append(result_SVM_grid)\n",
    "\n",
    "    # 使用RandomizedSearchCV找到的最佳参数在测试集上评估模型\n",
    "    best_svm_rand = randomized_search.best_estimator_\n",
    "    y_pred_rand = best_svm_rand.predict(X_test)\n",
    "    accuracy_rand = accuracy_score(y_test, y_pred_rand)\n",
    "    f1_rand = f1_score(y_test, y_pred_rand, average='weighted')\n",
    "\n",
    "    result_SVM_rand = {\n",
    "        'Test Size': test_size,\n",
    "        'Random State': random_state,\n",
    "        'Kernel': kernel,\n",
    "        'Search Method': 'RandomizedSearchCV',\n",
    "        'Best Parameters': randomized_search.best_params_,\n",
    "        'Cross-Validation Score': randomized_search.best_score_,\n",
    "        'Accuracy': accuracy_rand,\n",
    "        'F1 Score': f1_rand\n",
    "    }\n",
    "    results_SVM.append(result_SVM_rand)\n",
    "\n",
    "# 将结果转换为DataFrame并保存到CSV文件\n",
    "results_SVM_df = pd.DataFrame(results_SVM)\n",
    "results_SVM_df.to_csv('results_SVM.csv', index=False)"
   ],
   "metadata": {
    "collapsed": false
   }
  },
  {
   "cell_type": "code",
   "execution_count": 11,
   "outputs": [
    {
     "name": "stdout",
     "output_type": "stream",
     "text": [
      "Test size: 0.1, Random state: 21\n",
      "  Kernel: linear\n"
     ]
    },
    {
     "ename": "KeyboardInterrupt",
     "evalue": "",
     "output_type": "error",
     "traceback": [
      "\u001B[0;31m---------------------------------------------------------------------------\u001B[0m",
      "\u001B[0;31mKeyboardInterrupt\u001B[0m                         Traceback (most recent call last)",
      "Cell \u001B[0;32mIn[11], line 37\u001B[0m\n\u001B[1;32m     35\u001B[0m \u001B[38;5;66;03m# 修正前：使用GridSearchCV进行网格搜索和交叉验证\u001B[39;00m\n\u001B[1;32m     36\u001B[0m grid_search \u001B[38;5;241m=\u001B[39m GridSearchCV(svm, kernel_params[kernel], cv\u001B[38;5;241m=\u001B[39m\u001B[38;5;241m5\u001B[39m, scoring\u001B[38;5;241m=\u001B[39m\u001B[38;5;124m'\u001B[39m\u001B[38;5;124maccuracy\u001B[39m\u001B[38;5;124m'\u001B[39m, n_jobs\u001B[38;5;241m=\u001B[39m\u001B[38;5;241m-\u001B[39m\u001B[38;5;241m1\u001B[39m)\n\u001B[0;32m---> 37\u001B[0m \u001B[43mgrid_search\u001B[49m\u001B[38;5;241;43m.\u001B[39;49m\u001B[43mfit\u001B[49m\u001B[43m(\u001B[49m\u001B[43mX_train\u001B[49m\u001B[43m,\u001B[49m\u001B[43m \u001B[49m\u001B[43my_train\u001B[49m\u001B[43m)\u001B[49m\n\u001B[1;32m     39\u001B[0m \u001B[38;5;66;03m# 输出最佳参数和分类器性能\u001B[39;00m\n\u001B[1;32m     40\u001B[0m \u001B[38;5;28mprint\u001B[39m(\u001B[38;5;124m\"\u001B[39m\u001B[38;5;124m  GridSearchCV Best parameters found:\u001B[39m\u001B[38;5;124m\"\u001B[39m, grid_search\u001B[38;5;241m.\u001B[39mbest_params_)\n",
      "File \u001B[0;32m/opt/homebrew/anaconda3/lib/python3.10/site-packages/sklearn/model_selection/_search.py:874\u001B[0m, in \u001B[0;36mBaseSearchCV.fit\u001B[0;34m(self, X, y, groups, **fit_params)\u001B[0m\n\u001B[1;32m    868\u001B[0m     results \u001B[38;5;241m=\u001B[39m \u001B[38;5;28mself\u001B[39m\u001B[38;5;241m.\u001B[39m_format_results(\n\u001B[1;32m    869\u001B[0m         all_candidate_params, n_splits, all_out, all_more_results\n\u001B[1;32m    870\u001B[0m     )\n\u001B[1;32m    872\u001B[0m     \u001B[38;5;28;01mreturn\u001B[39;00m results\n\u001B[0;32m--> 874\u001B[0m \u001B[38;5;28;43mself\u001B[39;49m\u001B[38;5;241;43m.\u001B[39;49m\u001B[43m_run_search\u001B[49m\u001B[43m(\u001B[49m\u001B[43mevaluate_candidates\u001B[49m\u001B[43m)\u001B[49m\n\u001B[1;32m    876\u001B[0m \u001B[38;5;66;03m# multimetric is determined here because in the case of a callable\u001B[39;00m\n\u001B[1;32m    877\u001B[0m \u001B[38;5;66;03m# self.scoring the return type is only known after calling\u001B[39;00m\n\u001B[1;32m    878\u001B[0m first_test_score \u001B[38;5;241m=\u001B[39m all_out[\u001B[38;5;241m0\u001B[39m][\u001B[38;5;124m\"\u001B[39m\u001B[38;5;124mtest_scores\u001B[39m\u001B[38;5;124m\"\u001B[39m]\n",
      "File \u001B[0;32m/opt/homebrew/anaconda3/lib/python3.10/site-packages/sklearn/model_selection/_search.py:1388\u001B[0m, in \u001B[0;36mGridSearchCV._run_search\u001B[0;34m(self, evaluate_candidates)\u001B[0m\n\u001B[1;32m   1386\u001B[0m \u001B[38;5;28;01mdef\u001B[39;00m \u001B[38;5;21m_run_search\u001B[39m(\u001B[38;5;28mself\u001B[39m, evaluate_candidates):\n\u001B[1;32m   1387\u001B[0m     \u001B[38;5;124;03m\"\"\"Search all candidates in param_grid\"\"\"\u001B[39;00m\n\u001B[0;32m-> 1388\u001B[0m     \u001B[43mevaluate_candidates\u001B[49m\u001B[43m(\u001B[49m\u001B[43mParameterGrid\u001B[49m\u001B[43m(\u001B[49m\u001B[38;5;28;43mself\u001B[39;49m\u001B[38;5;241;43m.\u001B[39;49m\u001B[43mparam_grid\u001B[49m\u001B[43m)\u001B[49m\u001B[43m)\u001B[49m\n",
      "File \u001B[0;32m/opt/homebrew/anaconda3/lib/python3.10/site-packages/sklearn/model_selection/_search.py:821\u001B[0m, in \u001B[0;36mBaseSearchCV.fit.<locals>.evaluate_candidates\u001B[0;34m(candidate_params, cv, more_results)\u001B[0m\n\u001B[1;32m    813\u001B[0m \u001B[38;5;28;01mif\u001B[39;00m \u001B[38;5;28mself\u001B[39m\u001B[38;5;241m.\u001B[39mverbose \u001B[38;5;241m>\u001B[39m \u001B[38;5;241m0\u001B[39m:\n\u001B[1;32m    814\u001B[0m     \u001B[38;5;28mprint\u001B[39m(\n\u001B[1;32m    815\u001B[0m         \u001B[38;5;124m\"\u001B[39m\u001B[38;5;124mFitting \u001B[39m\u001B[38;5;132;01m{0}\u001B[39;00m\u001B[38;5;124m folds for each of \u001B[39m\u001B[38;5;132;01m{1}\u001B[39;00m\u001B[38;5;124m candidates,\u001B[39m\u001B[38;5;124m\"\u001B[39m\n\u001B[1;32m    816\u001B[0m         \u001B[38;5;124m\"\u001B[39m\u001B[38;5;124m totalling \u001B[39m\u001B[38;5;132;01m{2}\u001B[39;00m\u001B[38;5;124m fits\u001B[39m\u001B[38;5;124m\"\u001B[39m\u001B[38;5;241m.\u001B[39mformat(\n\u001B[1;32m    817\u001B[0m             n_splits, n_candidates, n_candidates \u001B[38;5;241m*\u001B[39m n_splits\n\u001B[1;32m    818\u001B[0m         )\n\u001B[1;32m    819\u001B[0m     )\n\u001B[0;32m--> 821\u001B[0m out \u001B[38;5;241m=\u001B[39m \u001B[43mparallel\u001B[49m\u001B[43m(\u001B[49m\n\u001B[1;32m    822\u001B[0m \u001B[43m    \u001B[49m\u001B[43mdelayed\u001B[49m\u001B[43m(\u001B[49m\u001B[43m_fit_and_score\u001B[49m\u001B[43m)\u001B[49m\u001B[43m(\u001B[49m\n\u001B[1;32m    823\u001B[0m \u001B[43m        \u001B[49m\u001B[43mclone\u001B[49m\u001B[43m(\u001B[49m\u001B[43mbase_estimator\u001B[49m\u001B[43m)\u001B[49m\u001B[43m,\u001B[49m\n\u001B[1;32m    824\u001B[0m \u001B[43m        \u001B[49m\u001B[43mX\u001B[49m\u001B[43m,\u001B[49m\n\u001B[1;32m    825\u001B[0m \u001B[43m        \u001B[49m\u001B[43my\u001B[49m\u001B[43m,\u001B[49m\n\u001B[1;32m    826\u001B[0m \u001B[43m        \u001B[49m\u001B[43mtrain\u001B[49m\u001B[38;5;241;43m=\u001B[39;49m\u001B[43mtrain\u001B[49m\u001B[43m,\u001B[49m\n\u001B[1;32m    827\u001B[0m \u001B[43m        \u001B[49m\u001B[43mtest\u001B[49m\u001B[38;5;241;43m=\u001B[39;49m\u001B[43mtest\u001B[49m\u001B[43m,\u001B[49m\n\u001B[1;32m    828\u001B[0m \u001B[43m        \u001B[49m\u001B[43mparameters\u001B[49m\u001B[38;5;241;43m=\u001B[39;49m\u001B[43mparameters\u001B[49m\u001B[43m,\u001B[49m\n\u001B[1;32m    829\u001B[0m \u001B[43m        \u001B[49m\u001B[43msplit_progress\u001B[49m\u001B[38;5;241;43m=\u001B[39;49m\u001B[43m(\u001B[49m\u001B[43msplit_idx\u001B[49m\u001B[43m,\u001B[49m\u001B[43m \u001B[49m\u001B[43mn_splits\u001B[49m\u001B[43m)\u001B[49m\u001B[43m,\u001B[49m\n\u001B[1;32m    830\u001B[0m \u001B[43m        \u001B[49m\u001B[43mcandidate_progress\u001B[49m\u001B[38;5;241;43m=\u001B[39;49m\u001B[43m(\u001B[49m\u001B[43mcand_idx\u001B[49m\u001B[43m,\u001B[49m\u001B[43m \u001B[49m\u001B[43mn_candidates\u001B[49m\u001B[43m)\u001B[49m\u001B[43m,\u001B[49m\n\u001B[1;32m    831\u001B[0m \u001B[43m        \u001B[49m\u001B[38;5;241;43m*\u001B[39;49m\u001B[38;5;241;43m*\u001B[39;49m\u001B[43mfit_and_score_kwargs\u001B[49m\u001B[43m,\u001B[49m\n\u001B[1;32m    832\u001B[0m \u001B[43m    \u001B[49m\u001B[43m)\u001B[49m\n\u001B[1;32m    833\u001B[0m \u001B[43m    \u001B[49m\u001B[38;5;28;43;01mfor\u001B[39;49;00m\u001B[43m \u001B[49m\u001B[43m(\u001B[49m\u001B[43mcand_idx\u001B[49m\u001B[43m,\u001B[49m\u001B[43m \u001B[49m\u001B[43mparameters\u001B[49m\u001B[43m)\u001B[49m\u001B[43m,\u001B[49m\u001B[43m \u001B[49m\u001B[43m(\u001B[49m\u001B[43msplit_idx\u001B[49m\u001B[43m,\u001B[49m\u001B[43m \u001B[49m\u001B[43m(\u001B[49m\u001B[43mtrain\u001B[49m\u001B[43m,\u001B[49m\u001B[43m \u001B[49m\u001B[43mtest\u001B[49m\u001B[43m)\u001B[49m\u001B[43m)\u001B[49m\u001B[43m \u001B[49m\u001B[38;5;129;43;01min\u001B[39;49;00m\u001B[43m \u001B[49m\u001B[43mproduct\u001B[49m\u001B[43m(\u001B[49m\n\u001B[1;32m    834\u001B[0m \u001B[43m        \u001B[49m\u001B[38;5;28;43menumerate\u001B[39;49m\u001B[43m(\u001B[49m\u001B[43mcandidate_params\u001B[49m\u001B[43m)\u001B[49m\u001B[43m,\u001B[49m\u001B[43m \u001B[49m\u001B[38;5;28;43menumerate\u001B[39;49m\u001B[43m(\u001B[49m\u001B[43mcv\u001B[49m\u001B[38;5;241;43m.\u001B[39;49m\u001B[43msplit\u001B[49m\u001B[43m(\u001B[49m\u001B[43mX\u001B[49m\u001B[43m,\u001B[49m\u001B[43m \u001B[49m\u001B[43my\u001B[49m\u001B[43m,\u001B[49m\u001B[43m \u001B[49m\u001B[43mgroups\u001B[49m\u001B[43m)\u001B[49m\u001B[43m)\u001B[49m\n\u001B[1;32m    835\u001B[0m \u001B[43m    \u001B[49m\u001B[43m)\u001B[49m\n\u001B[1;32m    836\u001B[0m \u001B[43m\u001B[49m\u001B[43m)\u001B[49m\n\u001B[1;32m    838\u001B[0m \u001B[38;5;28;01mif\u001B[39;00m \u001B[38;5;28mlen\u001B[39m(out) \u001B[38;5;241m<\u001B[39m \u001B[38;5;241m1\u001B[39m:\n\u001B[1;32m    839\u001B[0m     \u001B[38;5;28;01mraise\u001B[39;00m \u001B[38;5;167;01mValueError\u001B[39;00m(\n\u001B[1;32m    840\u001B[0m         \u001B[38;5;124m\"\u001B[39m\u001B[38;5;124mNo fits were performed. \u001B[39m\u001B[38;5;124m\"\u001B[39m\n\u001B[1;32m    841\u001B[0m         \u001B[38;5;124m\"\u001B[39m\u001B[38;5;124mWas the CV iterator empty? \u001B[39m\u001B[38;5;124m\"\u001B[39m\n\u001B[1;32m    842\u001B[0m         \u001B[38;5;124m\"\u001B[39m\u001B[38;5;124mWere there no candidates?\u001B[39m\u001B[38;5;124m\"\u001B[39m\n\u001B[1;32m    843\u001B[0m     )\n",
      "File \u001B[0;32m/opt/homebrew/anaconda3/lib/python3.10/site-packages/sklearn/utils/parallel.py:63\u001B[0m, in \u001B[0;36mParallel.__call__\u001B[0;34m(self, iterable)\u001B[0m\n\u001B[1;32m     58\u001B[0m config \u001B[38;5;241m=\u001B[39m get_config()\n\u001B[1;32m     59\u001B[0m iterable_with_config \u001B[38;5;241m=\u001B[39m (\n\u001B[1;32m     60\u001B[0m     (_with_config(delayed_func, config), args, kwargs)\n\u001B[1;32m     61\u001B[0m     \u001B[38;5;28;01mfor\u001B[39;00m delayed_func, args, kwargs \u001B[38;5;129;01min\u001B[39;00m iterable\n\u001B[1;32m     62\u001B[0m )\n\u001B[0;32m---> 63\u001B[0m \u001B[38;5;28;01mreturn\u001B[39;00m \u001B[38;5;28;43msuper\u001B[39;49m\u001B[43m(\u001B[49m\u001B[43m)\u001B[49m\u001B[38;5;241;43m.\u001B[39;49m\u001B[38;5;21;43m__call__\u001B[39;49m\u001B[43m(\u001B[49m\u001B[43miterable_with_config\u001B[49m\u001B[43m)\u001B[49m\n",
      "File \u001B[0;32m/opt/homebrew/anaconda3/lib/python3.10/site-packages/joblib/parallel.py:1061\u001B[0m, in \u001B[0;36mParallel.__call__\u001B[0;34m(self, iterable)\u001B[0m\n\u001B[1;32m   1058\u001B[0m     \u001B[38;5;28mself\u001B[39m\u001B[38;5;241m.\u001B[39m_iterating \u001B[38;5;241m=\u001B[39m \u001B[38;5;28;01mFalse\u001B[39;00m\n\u001B[1;32m   1060\u001B[0m \u001B[38;5;28;01mwith\u001B[39;00m \u001B[38;5;28mself\u001B[39m\u001B[38;5;241m.\u001B[39m_backend\u001B[38;5;241m.\u001B[39mretrieval_context():\n\u001B[0;32m-> 1061\u001B[0m     \u001B[38;5;28;43mself\u001B[39;49m\u001B[38;5;241;43m.\u001B[39;49m\u001B[43mretrieve\u001B[49m\u001B[43m(\u001B[49m\u001B[43m)\u001B[49m\n\u001B[1;32m   1062\u001B[0m \u001B[38;5;66;03m# Make sure that we get a last message telling us we are done\u001B[39;00m\n\u001B[1;32m   1063\u001B[0m elapsed_time \u001B[38;5;241m=\u001B[39m time\u001B[38;5;241m.\u001B[39mtime() \u001B[38;5;241m-\u001B[39m \u001B[38;5;28mself\u001B[39m\u001B[38;5;241m.\u001B[39m_start_time\n",
      "File \u001B[0;32m/opt/homebrew/anaconda3/lib/python3.10/site-packages/joblib/parallel.py:938\u001B[0m, in \u001B[0;36mParallel.retrieve\u001B[0;34m(self)\u001B[0m\n\u001B[1;32m    936\u001B[0m \u001B[38;5;28;01mtry\u001B[39;00m:\n\u001B[1;32m    937\u001B[0m     \u001B[38;5;28;01mif\u001B[39;00m \u001B[38;5;28mgetattr\u001B[39m(\u001B[38;5;28mself\u001B[39m\u001B[38;5;241m.\u001B[39m_backend, \u001B[38;5;124m'\u001B[39m\u001B[38;5;124msupports_timeout\u001B[39m\u001B[38;5;124m'\u001B[39m, \u001B[38;5;28;01mFalse\u001B[39;00m):\n\u001B[0;32m--> 938\u001B[0m         \u001B[38;5;28mself\u001B[39m\u001B[38;5;241m.\u001B[39m_output\u001B[38;5;241m.\u001B[39mextend(\u001B[43mjob\u001B[49m\u001B[38;5;241;43m.\u001B[39;49m\u001B[43mget\u001B[49m\u001B[43m(\u001B[49m\u001B[43mtimeout\u001B[49m\u001B[38;5;241;43m=\u001B[39;49m\u001B[38;5;28;43mself\u001B[39;49m\u001B[38;5;241;43m.\u001B[39;49m\u001B[43mtimeout\u001B[49m\u001B[43m)\u001B[49m)\n\u001B[1;32m    939\u001B[0m     \u001B[38;5;28;01melse\u001B[39;00m:\n\u001B[1;32m    940\u001B[0m         \u001B[38;5;28mself\u001B[39m\u001B[38;5;241m.\u001B[39m_output\u001B[38;5;241m.\u001B[39mextend(job\u001B[38;5;241m.\u001B[39mget())\n",
      "File \u001B[0;32m/opt/homebrew/anaconda3/lib/python3.10/site-packages/joblib/_parallel_backends.py:542\u001B[0m, in \u001B[0;36mLokyBackend.wrap_future_result\u001B[0;34m(future, timeout)\u001B[0m\n\u001B[1;32m    539\u001B[0m \u001B[38;5;124;03m\"\"\"Wrapper for Future.result to implement the same behaviour as\u001B[39;00m\n\u001B[1;32m    540\u001B[0m \u001B[38;5;124;03mAsyncResults.get from multiprocessing.\"\"\"\u001B[39;00m\n\u001B[1;32m    541\u001B[0m \u001B[38;5;28;01mtry\u001B[39;00m:\n\u001B[0;32m--> 542\u001B[0m     \u001B[38;5;28;01mreturn\u001B[39;00m \u001B[43mfuture\u001B[49m\u001B[38;5;241;43m.\u001B[39;49m\u001B[43mresult\u001B[49m\u001B[43m(\u001B[49m\u001B[43mtimeout\u001B[49m\u001B[38;5;241;43m=\u001B[39;49m\u001B[43mtimeout\u001B[49m\u001B[43m)\u001B[49m\n\u001B[1;32m    543\u001B[0m \u001B[38;5;28;01mexcept\u001B[39;00m CfTimeoutError \u001B[38;5;28;01mas\u001B[39;00m e:\n\u001B[1;32m    544\u001B[0m     \u001B[38;5;28;01mraise\u001B[39;00m \u001B[38;5;167;01mTimeoutError\u001B[39;00m \u001B[38;5;28;01mfrom\u001B[39;00m \u001B[38;5;21;01me\u001B[39;00m\n",
      "File \u001B[0;32m/opt/homebrew/anaconda3/lib/python3.10/concurrent/futures/_base.py:453\u001B[0m, in \u001B[0;36mFuture.result\u001B[0;34m(self, timeout)\u001B[0m\n\u001B[1;32m    450\u001B[0m \u001B[38;5;28;01melif\u001B[39;00m \u001B[38;5;28mself\u001B[39m\u001B[38;5;241m.\u001B[39m_state \u001B[38;5;241m==\u001B[39m FINISHED:\n\u001B[1;32m    451\u001B[0m     \u001B[38;5;28;01mreturn\u001B[39;00m \u001B[38;5;28mself\u001B[39m\u001B[38;5;241m.\u001B[39m__get_result()\n\u001B[0;32m--> 453\u001B[0m \u001B[38;5;28;43mself\u001B[39;49m\u001B[38;5;241;43m.\u001B[39;49m\u001B[43m_condition\u001B[49m\u001B[38;5;241;43m.\u001B[39;49m\u001B[43mwait\u001B[49m\u001B[43m(\u001B[49m\u001B[43mtimeout\u001B[49m\u001B[43m)\u001B[49m\n\u001B[1;32m    455\u001B[0m \u001B[38;5;28;01mif\u001B[39;00m \u001B[38;5;28mself\u001B[39m\u001B[38;5;241m.\u001B[39m_state \u001B[38;5;129;01min\u001B[39;00m [CANCELLED, CANCELLED_AND_NOTIFIED]:\n\u001B[1;32m    456\u001B[0m     \u001B[38;5;28;01mraise\u001B[39;00m CancelledError()\n",
      "File \u001B[0;32m/opt/homebrew/anaconda3/lib/python3.10/threading.py:320\u001B[0m, in \u001B[0;36mCondition.wait\u001B[0;34m(self, timeout)\u001B[0m\n\u001B[1;32m    318\u001B[0m \u001B[38;5;28;01mtry\u001B[39;00m:    \u001B[38;5;66;03m# restore state no matter what (e.g., KeyboardInterrupt)\u001B[39;00m\n\u001B[1;32m    319\u001B[0m     \u001B[38;5;28;01mif\u001B[39;00m timeout \u001B[38;5;129;01mis\u001B[39;00m \u001B[38;5;28;01mNone\u001B[39;00m:\n\u001B[0;32m--> 320\u001B[0m         \u001B[43mwaiter\u001B[49m\u001B[38;5;241;43m.\u001B[39;49m\u001B[43macquire\u001B[49m\u001B[43m(\u001B[49m\u001B[43m)\u001B[49m\n\u001B[1;32m    321\u001B[0m         gotit \u001B[38;5;241m=\u001B[39m \u001B[38;5;28;01mTrue\u001B[39;00m\n\u001B[1;32m    322\u001B[0m     \u001B[38;5;28;01melse\u001B[39;00m:\n",
      "\u001B[0;31mKeyboardInterrupt\u001B[0m: "
     ]
    }
   ],
   "source": [
    "# 加载数据\n",
    "# url = 'https://raw.githubusercontent.com/ZhiyunXu20/INT104_Coursework2/main/dataframe_PCA.csv'\n",
    "dataframe = pd.read_csv('dataframe_PCA.csv')\n",
    "\n",
    "X = dataframe.drop(columns=['Label', 'Patient index'])\n",
    "y = dataframe['Label']\n",
    "\n",
    "# 定义SVM核函数和参数\n",
    "kernels = ['linear', 'poly', 'rbf', 'sigmoid']\n",
    "kernel_params = {\n",
    "    'linear': {'C': [0.1, 1, 10, 100]},\n",
    "    'poly': {'C': [0.1, 1, 10, 100], 'degree': [2, 3, 4], 'coef0': [0, 1]},\n",
    "    'rbf': {'C': [0.1, 1, 10, 100], 'gamma': ['scale', 'auto']},\n",
    "    'sigmoid': {'C': [0.1, 1, 10, 100], 'coef0': [0, 1]}\n",
    "}\n",
    "\n",
    "test_sizes = [0.1, 0.2, 0.3]\n",
    "random_states = [21, 42, 84]\n",
    "\n",
    "results_SVM = []\n",
    "\n",
    "# 对每个test_size和random_state组合进行循环\n",
    "for test_size in test_sizes:\n",
    "    for random_state in random_states:\n",
    "        print(f\"Test size: {test_size}, Random state: {random_state}\")\n",
    "\n",
    "        # 划分训练集和测试集\n",
    "        X_train, X_test, y_train, y_test = train_test_split(X, y, test_size=test_size, random_state=random_state)\n",
    "\n",
    "        # 对每个核函数执行网格搜索和交叉验证\n",
    "        for kernel in kernels:\n",
    "            print(f\"  Kernel: {kernel}\")\n",
    "            svm = SVC(kernel=kernel)\n",
    "\n",
    "            # 修正前：使用GridSearchCV进行网格搜索和交叉验证\n",
    "            grid_search = GridSearchCV(svm, kernel_params[kernel], cv=5, scoring='accuracy', n_jobs=4)\n",
    "            grid_search.fit(X_train, y_train)\n",
    "\n",
    "            # 输出最佳参数和分类器性能\n",
    "            print(\"  GridSearchCV Best parameters found:\", grid_search.best_params_)\n",
    "            print(\"  GridSearchCV Best score found:\", grid_search.best_score_)\n",
    "\n",
    "            # 修正后：使用RandomizedSearchCV进行随机搜索和交叉验证\n",
    "            distribution = dict(C=uniform(loc=0, scale=10), gamma=uniform(loc=0, scale=1))\n",
    "            randomized_search = RandomizedSearchCV(svm, distribution, n_iter=10, cv=5, scoring='accuracy', n_jobs=4)\n",
    "            randomized_search.fit(X_train, y_train)\n",
    "\n",
    "            # 输出最佳参数和分类器性能\n",
    "            print(\"  RandomizedSearchCV Best parameters found:\", randomized_search.best_params_)\n",
    "            print(\"  RandomizedSearchCV Best score found:\", randomized_search.best_score_)\n",
    "\n",
    "            # 使用最佳参数在测试集上评估模型\n",
    "            # 使用GridSearchCV找到的最佳参数在测试集上评估模型\n",
    "            best_svm_grid = grid_search.best_estimator_\n",
    "            y_pred_grid = best_svm_grid.predict(X_test)\n",
    "            accuracy_grid = accuracy_score(y_test, y_pred_grid)\n",
    "            f1_grid = f1_score(y_test, y_pred_grid, average='weighted')\n",
    "\n",
    "            result_SVM_grid = {\n",
    "                'Test Size': test_size,\n",
    "                'Random State': random_state,\n",
    "                'Kernel': kernel,\n",
    "                'Search Method': 'GridSearchCV',\n",
    "                'Best Parameters': grid_search.best_params_,\n",
    "                'Cross-Validation Score': grid_search.best_score_,\n",
    "                'Accuracy': accuracy_grid,\n",
    "                'F1 Score': f1_grid\n",
    "            }\n",
    "            results_SVM.append(result_SVM_grid)\n",
    "\n",
    "            # 使用RandomizedSearchCV找到的最佳参数在测试集上评估模型\n",
    "            best_svm_rand = randomized_search.best_estimator_\n",
    "            y_pred_rand = best_svm_rand.predict(X_test)\n",
    "            accuracy_rand = accuracy_score(y_test, y_pred_rand)\n",
    "            f1_rand = f1_score(y_test, y_pred_rand, average='weighted')\n",
    "\n",
    "            result_SVM_rand = {\n",
    "                'Test Size': test_size,\n",
    "                'Random State': random_state,\n",
    "                'Kernel': kernel,\n",
    "                'Search Method': 'RandomizedSearchCV',\n",
    "                'Best Parameters': randomized_search.best_params_,\n",
    "                'Cross-Validation Score': randomized_search.best_score_,\n",
    "                'Accuracy': accuracy_rand,\n",
    "                'F1 Score': f1_rand\n",
    "            }\n",
    "            results_SVM.append(result_SVM_rand)\n",
    "\n",
    "# 将结果转换为DataFrame并保存到CSV文件\n",
    "results_SVM_df = pd.DataFrame(results_SVM)\n",
    "results_SVM_df.to_csv('results_SVM.csv', index=False)\n"
   ],
   "metadata": {
    "collapsed": false
   }
  },
  {
   "cell_type": "code",
   "execution_count": 13,
   "outputs": [
    {
     "name": "stdout",
     "output_type": "stream",
     "text": [
      "SVM Classifier Results:\n",
      "              precision    recall  f1-score   support\n",
      "\n",
      "           0       0.70      0.74      0.72       137\n",
      "           1       0.71      0.66      0.69       130\n",
      "\n",
      "    accuracy                           0.70       267\n",
      "   macro avg       0.70      0.70      0.70       267\n",
      "weighted avg       0.70      0.70      0.70       267\n",
      "\n"
     ]
    }
   ],
   "source": [
    "# 划分数据集 Split the dataset\n",
    "dataframe = pd.read_csv('dataframe_PCA.csv')\n",
    "X = dataframe.drop(columns=['Patient index', 'Label'])\n",
    "y = dataframe['Label']\n",
    "X_train, X_test, y_train, y_test = train_test_split(X, y, test_size=0.05, random_state=42)\n",
    "\n",
    "# 训练 SVM 分类器 Train SVM classifier\n",
    "svm_clf = SVC(kernel='rbf', C=10, random_state=42)\n",
    "svm_clf.fit(X_train, y_train)\n",
    "\n",
    "# 评估 SVM 分类器 Evaluate SVM classifier\n",
    "svm_predictions = svm_clf.predict(X_test)\n",
    "print(\"SVM Classifier Results:\")\n",
    "print(classification_report(y_test, svm_predictions))\n"
   ],
   "metadata": {
    "collapsed": false
   }
  }
 ],
 "metadata": {
  "kernelspec": {
   "display_name": "Python 3",
   "language": "python",
   "name": "python3"
  },
  "language_info": {
   "codemirror_mode": {
    "name": "ipython",
    "version": 2
   },
   "file_extension": ".py",
   "mimetype": "text/x-python",
   "name": "python",
   "nbconvert_exporter": "python",
   "pygments_lexer": "ipython2",
   "version": "2.7.6"
  }
 },
 "nbformat": 4,
 "nbformat_minor": 0
}
